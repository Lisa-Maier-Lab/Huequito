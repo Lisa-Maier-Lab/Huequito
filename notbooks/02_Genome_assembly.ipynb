{
 "cells": [
  {
   "cell_type": "markdown",
   "id": "4dd51863",
   "metadata": {
    "vscode": {
     "languageId": "r"
    }
   },
   "source": [
    "# Assembly of nanopore sequences\n",
    "\n",
    "Jacobo de la Cuesta-Zuluaga, June 2025.\n",
    "\n",
    "The aim of this notebook is to execute the `nf-core` pipeline `bacass` for the assembly of a bacterial genome sequenced using nanopore. You can find the pipeline documentation [here](https://nf-co.re/bacass/2.4.0/)."
   ]
  },
  {
   "cell_type": "markdown",
   "id": "e299ca54",
   "metadata": {
    "vscode": {
     "languageId": "r"
    }
   },
   "source": [
    "## Libraries"
   ]
  },
  {
   "cell_type": "code",
   "execution_count": null,
   "id": "60342c83",
   "metadata": {
    "vscode": {
     "languageId": "r"
    }
   },
   "outputs": [],
   "source": [
    "library(tidyverse)\n",
    "library(conflicted)"
   ]
  },
  {
   "cell_type": "code",
   "execution_count": null,
   "id": "ff703295",
   "metadata": {
    "vscode": {
     "languageId": "r"
    }
   },
   "outputs": [],
   "source": [
    "conflicts_prefer(dplyr::filter)"
   ]
  },
  {
   "cell_type": "markdown",
   "id": "b7c9135a",
   "metadata": {},
   "source": [
    "## Load libraries and set paths\n",
    "\n",
    "First, we'll set up the libraries and the work directory where we'll save our files. Note that these are pretty much the same as in notebook 01"
   ]
  },
  {
   "cell_type": "code",
   "execution_count": null,
   "id": "1970366d",
   "metadata": {
    "vscode": {
     "languageId": "r"
    }
   },
   "outputs": [],
   "source": [
    "# Directories\n",
    "# Base directory\n",
    "base_dir = \"/path/to/your/directory\"\n",
    "\n",
    "# Data\n",
    "data_dir = file.path(base_dir, \"data\")\n",
    "\n",
    "# fastq files\n",
    "fastq_dir = file.path(data_dir, \"fastq_files\")\n",
    "\n",
    "# sheets dir\n",
    "sheets_dir = file.path(data_dir, \"sheets\")\n",
    "dir.create(sheets_dir)\n",
    "\n",
    "# sheets dir\n",
    "assembly_dir = file.path(data_dir, \"assembly\")\n",
    "dir.create(assembly_dir)\n",
    "\n",
    "# Databases\n",
    "k2_db = \"/mnt/lustre/groups/maier/databases/Kraken_Bracken/k2_standard_16gb/k2_standard_16gb_20240605.tar.gz\"\n",
    "\n",
    "# Software\n",
    "conda_env = \"Nextflow\""
   ]
  },
  {
   "cell_type": "markdown",
   "id": "ccbda6c9",
   "metadata": {},
   "source": [
    "**Note** that `Huequito`'s repository includes a nextflow configuration file that increases the baseline computational resources used by the pipeline. If you want to use the default resource allocation, remove the `-c` agument from the `bacass` command. In most cases you won't need to change anything, this is just for your information."
   ]
  },
  {
   "cell_type": "code",
   "execution_count": null,
   "id": "c82b0034",
   "metadata": {
    "vscode": {
     "languageId": "r"
    }
   },
   "outputs": [],
   "source": [
    "# Custom config file\n",
    "nextflow_config = file.path(base_dir, \"config/nextflow.config\")"
   ]
  },
  {
   "cell_type": "markdown",
   "id": "72dbe4a9",
   "metadata": {},
   "source": [
    "## Prepare tables\n",
    "\n",
    "`nf-core` pipelines require you to provide a table where the path of each sample to be processed is specified. You could do this manually, although it is better to have some code help you with that. The chunk below lists all the `fastq.gz` files in the sequences folder and creates a table with the necessary columns.\n",
    "\n",
    "__Note__ that there a multiple columns with `NA`. This is because the assembly pipeline can use multiple read types as input, such as Illumina short reads. We will only use long reads, that's why the `LongFastQ` is the only one with data in it.\n",
    "\n",
    "__Also take into account__ that you have to give a name or `ID` to each sample, so you'll need to modify the table if you have more than one sample to assemble."
   ]
  },
  {
   "cell_type": "code",
   "execution_count": null,
   "id": "fc5e6542",
   "metadata": {
    "vscode": {
     "languageId": "r"
    }
   },
   "outputs": [],
   "source": [
    "# Create sample sheets\n",
    "# List files and only retain fastq files\n",
    "Long_reads = list.files(fastq_dir, full.names = TRUE, pattern = \"fastq.gz$\")\n",
    "\n",
    "# Create samples table\n",
    "reads_sheet = data.frame(LongFastQ = Long_reads) %>%\n",
    "    mutate(ID = \"S_dysgalactiae\", \n",
    "           R1 = NA,\n",
    "           R2 = NA,\n",
    "           Fast5 = NA,\n",
    "           GenomeSize = NA) %>%  \n",
    "    relocate(ID) %>% \n",
    "    relocate(LongFastQ,.after = R2)\n",
    "\n",
    "reads_sheet"
   ]
  },
  {
   "cell_type": "markdown",
   "id": "68defe48",
   "metadata": {},
   "source": [
    "The chunk below saves the sample sheet as a tab-separated file, which will be used as input for the assembly pipeline."
   ]
  },
  {
   "cell_type": "code",
   "execution_count": null,
   "id": "c9f72fa4",
   "metadata": {
    "vscode": {
     "languageId": "r"
    }
   },
   "outputs": [],
   "source": [
    "# Write file\n",
    "Sdysgalactiae_samplessheet = file.path(sheets_dir, \"Sdysgalactiae_samples.tsv\")\n",
    "\n",
    "reads_sheet %>%\n",
    "    write_tsv(Sdysgalactiae_samplessheet)"
   ]
  },
  {
   "cell_type": "markdown",
   "id": "ddcf4935",
   "metadata": {
    "vscode": {
     "languageId": "r"
    }
   },
   "source": [
    "## Execute pipeline\n",
    "\n",
    "The code below constructs the bash command to activate the conda environment, change to the assembly directory, and run the `bacass` pipeline with all required arguments and resources.\n"
   ]
  },
  {
   "cell_type": "code",
   "execution_count": null,
   "id": "c4029098",
   "metadata": {
    "vscode": {
     "languageId": "r"
    }
   },
   "outputs": [],
   "source": [
    "# Create command\n",
    "bacass_cmd = str_glue(\n",
    "  \"conda activate {{conda_env}} && \\\\\n",
    "  cd {{out_dir}} && \\\\\n",
    "  nextflow run nf-core/bacass -r 2.3.1 \\\\\n",
    "    -profile m3c \\\\\n",
    "    --input {{samples_sheet}} \\\\\n",
    "    --outdir {{assemblies_dir}} \\\\\n",
    "    -c {{nextflow_config}} \\\\\n",
    "    --kraken2db {{kraken_db}} \\\\\n",
    "    --annotation_tool prokka \\\\\n",
    "    --assembler unicycler \\\\\n",
    "    --assembly_type long \\\\\n",
    "    --polish_method medaka \\\\\n",
    "    --skip_kmerfinder\")"
   ]
  },
  {
   "cell_type": "markdown",
   "id": "26638cbb",
   "metadata": {},
   "source": [
    "Now we can replace the placeholders in the bacass command template with the actual paths and filenames defined above. Then, the chunk prints the full command for you to copy and run in your terminal.\n"
   ]
  },
  {
   "cell_type": "code",
   "execution_count": null,
   "id": "5e34ff02",
   "metadata": {
    "vscode": {
     "languageId": "r"
    }
   },
   "outputs": [],
   "source": [
    "assembly_cmd = str_glue(bacass_cmd,\n",
    "                        conda_env = conda_env,\n",
    "                        out_dir = assembly_dir,\n",
    "                        samples_sheet = Sdysgalactiae_samplessheet,\n",
    "                        assemblies_dir = assembly_dir,\n",
    "                        kraken_db = k2_db)\n",
    "\n",
    "assembly_cmd"
   ]
  }
 ],
 "metadata": {
  "kernelspec": {
   "display_name": "R",
   "language": "R",
   "name": "ir"
  },
  "language_info": {
   "codemirror_mode": "r",
   "file_extension": ".r",
   "mimetype": "text/x-r-source",
   "name": "R",
   "pygments_lexer": "r",
   "version": "4.4.3"
  }
 },
 "nbformat": 4,
 "nbformat_minor": 5
}
