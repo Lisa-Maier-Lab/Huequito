{
 "cells": [
  {
   "cell_type": "markdown",
   "id": "4dd51863",
   "metadata": {
    "vscode": {
     "languageId": "r"
    }
   },
   "source": [
    "# Assembly of nanopore sequences\n",
    "\n",
    "Jacobo de la Cuesta-Zuluaga, June 2025.\n",
    "\n",
    "The aim of this notebook is to execute the `nf-core` pipeline `bacass` for the assembly of a bacterial genome sequenced using nanopore. You can find the pipeline documentation [here](https://nf-co.re/bacass/2.4.0/)."
   ]
  },
  {
   "cell_type": "markdown",
   "id": "e299ca54",
   "metadata": {
    "vscode": {
     "languageId": "r"
    }
   },
   "source": [
    "## Libraries"
   ]
  },
  {
   "cell_type": "code",
   "execution_count": 9,
   "id": "60342c83",
   "metadata": {
    "vscode": {
     "languageId": "r"
    }
   },
   "outputs": [],
   "source": [
    "library(tidyverse)\n",
    "library(conflicted)"
   ]
  },
  {
   "cell_type": "code",
   "execution_count": 10,
   "id": "ff703295",
   "metadata": {
    "vscode": {
     "languageId": "r"
    }
   },
   "outputs": [
    {
     "name": "stderr",
     "output_type": "stream",
     "text": [
      "\u001b[1m\u001b[22m\u001b[90m[conflicted]\u001b[39m Removing existing preference.\n"
     ]
    },
    {
     "name": "stderr",
     "output_type": "stream",
     "text": [
      "\u001b[1m\u001b[22m\u001b[90m[conflicted]\u001b[39m Will prefer \u001b[1m\u001b[34mdplyr\u001b[39m\u001b[22m::filter over any other package.\n"
     ]
    }
   ],
   "source": [
    "conflicts_prefer(dplyr::filter)"
   ]
  },
  {
   "cell_type": "markdown",
   "id": "b7c9135a",
   "metadata": {},
   "source": [
    "## Load libraries and set paths\n",
    "\n",
    "First, we'll set up the libraries and the work directory where we'll save our files. Note that these are pretty much the same as in notebook 01"
   ]
  },
  {
   "cell_type": "code",
   "execution_count": 11,
   "id": "1970366d",
   "metadata": {
    "vscode": {
     "languageId": "r"
    }
   },
   "outputs": [
    {
     "name": "stderr",
     "output_type": "stream",
     "text": [
      "Warning message in dir.create(sheets_dir):\n",
      "“'/mnt/lustre/groups/maier/maide581/projects/Huequito/data/sheets' already exists”\n",
      "Warning message in dir.create(assembly_dir):\n",
      "“'/mnt/lustre/groups/maier/maide581/projects/Huequito/data/assembly' already exists”\n"
     ]
    }
   ],
   "source": [
    "# Directories\n",
    "# Base directory\n",
    "base_dir = \"/mnt/lustre/groups/maier/maide581/projects/Huequito\"\n",
    "\n",
    "# Data\n",
    "data_dir = file.path(base_dir, \"data\")\n",
    "\n",
    "# fastq files\n",
    "fastq_dir = file.path(data_dir, \"fastq_files\")\n",
    "\n",
    "# sheets dir\n",
    "sheets_dir = file.path(data_dir, \"sheets\")\n",
    "dir.create(sheets_dir)\n",
    "\n",
    "# sheets dir\n",
    "assembly_dir = file.path(data_dir, \"assembly\")\n",
    "dir.create(assembly_dir)\n",
    "\n",
    "# Databases\n",
    "k2_db = \"/mnt/lustre/groups/maier/databases/Kraken_Bracken/k2_standard_16gb/k2_standard_16gb_20240605.tar.gz\"\n",
    "\n",
    "# Software\n",
    "conda_env = \"nextflow\""
   ]
  },
  {
   "cell_type": "markdown",
   "id": "ccbda6c9",
   "metadata": {},
   "source": [
    "**Note** that `Huequito`'s repository includes a nextflow configuration file that increases the baseline computational resources used by the pipeline. If you want to use the default resource allocation, remove the `-c` agument from the `bacass` command. In most cases you won't need to change anything, this is just for your information."
   ]
  },
  {
   "cell_type": "code",
   "execution_count": 12,
   "id": "c82b0034",
   "metadata": {
    "vscode": {
     "languageId": "r"
    }
   },
   "outputs": [],
   "source": [
    "# Custom config file\n",
    "nextflow_config = file.path(base_dir, \"config/nextflow.config\")"
   ]
  },
  {
   "cell_type": "markdown",
   "id": "72dbe4a9",
   "metadata": {},
   "source": [
    "## Prepare tables\n",
    "\n",
    "`nf-core` pipelines require you to provide a table where the path of each sample to be processed is specified. You could do this manually, although it is better to have some code help you with that. The chunk below lists all the `fastq.gz` files in the sequences folder and creates a table with the necessary columns.\n",
    "\n",
    "__Note__ that there a multiple columns with `NA`. This is because the assembly pipeline can use multiple read types as input, such as Illumina short reads. We will only use long reads, that's why the `LongFastQ` is the only one with data in it.\n",
    "\n",
    "__Also take into account__ that you have to give a name or `ID` to each sample, so you'll need to modify the table if you have more than one sample to assemble."
   ]
  },
  {
   "cell_type": "code",
   "execution_count": 13,
   "id": "fc5e6542",
   "metadata": {
    "vscode": {
     "languageId": "r"
    }
   },
   "outputs": [
    {
     "data": {
      "text/html": [
       "<table class=\"dataframe\">\n",
       "<caption>A data.frame: 1 × 6</caption>\n",
       "<thead>\n",
       "\t<tr><th scope=col>ID</th><th scope=col>R1</th><th scope=col>R2</th><th scope=col>LongFastQ</th><th scope=col>Fast5</th><th scope=col>GenomeSize</th></tr>\n",
       "\t<tr><th scope=col>&lt;chr&gt;</th><th scope=col>&lt;lgl&gt;</th><th scope=col>&lt;lgl&gt;</th><th scope=col>&lt;chr&gt;</th><th scope=col>&lt;lgl&gt;</th><th scope=col>&lt;lgl&gt;</th></tr>\n",
       "</thead>\n",
       "<tbody>\n",
       "\t<tr><td>S_dysgalactiae</td><td>NA</td><td>NA</td><td>/mnt/lustre/groups/maier/maide581/projects/Huequito/data/fastq_files/MMC234_202311.fastq.gz</td><td>NA</td><td>NA</td></tr>\n",
       "</tbody>\n",
       "</table>\n"
      ],
      "text/latex": [
       "A data.frame: 1 × 6\n",
       "\\begin{tabular}{llllll}\n",
       " ID & R1 & R2 & LongFastQ & Fast5 & GenomeSize\\\\\n",
       " <chr> & <lgl> & <lgl> & <chr> & <lgl> & <lgl>\\\\\n",
       "\\hline\n",
       "\t S\\_dysgalactiae & NA & NA & /mnt/lustre/groups/maier/maide581/projects/Huequito/data/fastq\\_files/MMC234\\_202311.fastq.gz & NA & NA\\\\\n",
       "\\end{tabular}\n"
      ],
      "text/markdown": [
       "\n",
       "A data.frame: 1 × 6\n",
       "\n",
       "| ID &lt;chr&gt; | R1 &lt;lgl&gt; | R2 &lt;lgl&gt; | LongFastQ &lt;chr&gt; | Fast5 &lt;lgl&gt; | GenomeSize &lt;lgl&gt; |\n",
       "|---|---|---|---|---|---|\n",
       "| S_dysgalactiae | NA | NA | /mnt/lustre/groups/maier/maide581/projects/Huequito/data/fastq_files/MMC234_202311.fastq.gz | NA | NA |\n",
       "\n"
      ],
      "text/plain": [
       "  ID             R1 R2\n",
       "1 S_dysgalactiae NA NA\n",
       "  LongFastQ                                                                                  \n",
       "1 /mnt/lustre/groups/maier/maide581/projects/Huequito/data/fastq_files/MMC234_202311.fastq.gz\n",
       "  Fast5 GenomeSize\n",
       "1 NA    NA        "
      ]
     },
     "metadata": {},
     "output_type": "display_data"
    }
   ],
   "source": [
    "# Create sample sheets\n",
    "# List files and only retain fastq files\n",
    "Long_reads = list.files(fastq_dir, full.names = TRUE, pattern = \"fastq.gz$\")\n",
    "\n",
    "# Create samples table\n",
    "reads_sheet = data.frame(LongFastQ = Long_reads) %>%\n",
    "    mutate(ID = \"S_dysgalactiae\", \n",
    "           R1 = NA,\n",
    "           R2 = NA,\n",
    "           Fast5 = NA,\n",
    "           GenomeSize = NA) %>%  \n",
    "    relocate(ID) %>% \n",
    "    relocate(LongFastQ,.after = R2)\n",
    "\n",
    "reads_sheet"
   ]
  },
  {
   "cell_type": "markdown",
   "id": "68defe48",
   "metadata": {},
   "source": [
    "The chunk below saves the sample sheet as a tab-separated file, which will be used as input for the assembly pipeline."
   ]
  },
  {
   "cell_type": "code",
   "execution_count": 14,
   "id": "c9f72fa4",
   "metadata": {
    "vscode": {
     "languageId": "r"
    }
   },
   "outputs": [],
   "source": [
    "# Write file\n",
    "Sdysgalactiae_samplessheet = file.path(sheets_dir, \"Sdysgalactiae_samples.tsv\")\n",
    "\n",
    "reads_sheet %>%\n",
    "    write_tsv(Sdysgalactiae_samplessheet)"
   ]
  },
  {
   "cell_type": "markdown",
   "id": "ddcf4935",
   "metadata": {
    "vscode": {
     "languageId": "r"
    }
   },
   "source": [
    "## Execute pipeline\n",
    "\n",
    "The code below constructs the bash command to activate the conda environment, change to the assembly directory, and run the `bacass` pipeline with all required arguments and resources.\n"
   ]
  },
  {
   "cell_type": "code",
   "execution_count": 15,
   "id": "c4029098",
   "metadata": {
    "vscode": {
     "languageId": "r"
    }
   },
   "outputs": [],
   "source": [
    "# Create command\n",
    "bacass_cmd = str_glue(\n",
    "  \"conda activate {{conda_env}} && \\\\\n",
    "  cd {{out_dir}} && \\\\\n",
    "  nextflow run nf-core/bacass -r 2.3.1 \\\\\n",
    "    -profile m3c \\\\\n",
    "    --input {{samples_sheet}} \\\\\n",
    "    --outdir {{assemblies_dir}} \\\\\n",
    "    -c {{nextflow_config}} \\\\\n",
    "    --kraken2db {{kraken_db}} \\\\\n",
    "    --annotation_tool prokka \\\\\n",
    "    --assembler unicycler \\\\\n",
    "    --assembly_type long \\\\\n",
    "    --polish_method medaka \\\\\n",
    "    --skip_kmerfinder\")"
   ]
  },
  {
   "cell_type": "markdown",
   "id": "26638cbb",
   "metadata": {},
   "source": [
    "Now we can replace the placeholders in the bacass command template with the actual paths and filenames defined above. Then, the chunk prints the full command for you to copy and run in your terminal.\n"
   ]
  },
  {
   "cell_type": "code",
   "execution_count": 16,
   "id": "5e34ff02",
   "metadata": {
    "vscode": {
     "languageId": "r"
    }
   },
   "outputs": [
    {
     "data": {
      "text/html": [
       "<span style=white-space:pre-wrap>'conda activate nextflow &amp;&amp; cd /mnt/lustre/groups/maier/maide581/projects/Huequito/data/assembly &amp;&amp; nextflow run nf-core/bacass -r 2.3.1   -profile m3c   --input /mnt/lustre/groups/maier/maide581/projects/Huequito/data/sheets/Sdysgalactiae_samples.tsv   --outdir /mnt/lustre/groups/maier/maide581/projects/Huequito/data/assembly   -c /mnt/lustre/groups/maier/maide581/projects/Huequito/config/nextflow.config   --kraken2db /mnt/lustre/groups/maier/databases/Kraken_Bracken/k2_standard_16gb/k2_standard_16gb_20240605.tar.gz   --annotation_tool prokka   --assembler unicycler   --assembly_type long   --polish_method medaka   --skip_kmerfinder'</span>"
      ],
      "text/latex": [
       "'conda activate nextflow \\&\\& cd /mnt/lustre/groups/maier/maide581/projects/Huequito/data/assembly \\&\\& nextflow run nf-core/bacass -r 2.3.1   -profile m3c   --input /mnt/lustre/groups/maier/maide581/projects/Huequito/data/sheets/Sdysgalactiae\\_samples.tsv   --outdir /mnt/lustre/groups/maier/maide581/projects/Huequito/data/assembly   -c /mnt/lustre/groups/maier/maide581/projects/Huequito/config/nextflow.config   --kraken2db /mnt/lustre/groups/maier/databases/Kraken\\_Bracken/k2\\_standard\\_16gb/k2\\_standard\\_16gb\\_20240605.tar.gz   --annotation\\_tool prokka   --assembler unicycler   --assembly\\_type long   --polish\\_method medaka   --skip\\_kmerfinder'"
      ],
      "text/markdown": [
       "<span style=white-space:pre-wrap>'conda activate nextflow &amp;&amp; cd /mnt/lustre/groups/maier/maide581/projects/Huequito/data/assembly &amp;&amp; nextflow run nf-core/bacass -r 2.3.1   -profile m3c   --input /mnt/lustre/groups/maier/maide581/projects/Huequito/data/sheets/Sdysgalactiae_samples.tsv   --outdir /mnt/lustre/groups/maier/maide581/projects/Huequito/data/assembly   -c /mnt/lustre/groups/maier/maide581/projects/Huequito/config/nextflow.config   --kraken2db /mnt/lustre/groups/maier/databases/Kraken_Bracken/k2_standard_16gb/k2_standard_16gb_20240605.tar.gz   --annotation_tool prokka   --assembler unicycler   --assembly_type long   --polish_method medaka   --skip_kmerfinder'</span>"
      ],
      "text/plain": [
       "conda activate nextflow && cd /mnt/lustre/groups/maier/maide581/projects/Huequito/data/assembly && nextflow run nf-core/bacass -r 2.3.1   -profile m3c   --input /mnt/lustre/groups/maier/maide581/projects/Huequito/data/sheets/Sdysgalactiae_samples.tsv   --outdir /mnt/lustre/groups/maier/maide581/projects/Huequito/data/assembly   -c /mnt/lustre/groups/maier/maide581/projects/Huequito/config/nextflow.config   --kraken2db /mnt/lustre/groups/maier/databases/Kraken_Bracken/k2_standard_16gb/k2_standard_16gb_20240605.tar.gz   --annotation_tool prokka   --assembler unicycler   --assembly_type long   --polish_method medaka   --skip_kmerfinder"
      ]
     },
     "metadata": {},
     "output_type": "display_data"
    }
   ],
   "source": [
    "assembly_cmd = str_glue(bacass_cmd,\n",
    "                        conda_env = conda_env,\n",
    "                        out_dir = assembly_dir,\n",
    "                        samples_sheet = Sdysgalactiae_samplessheet,\n",
    "                        assemblies_dir = assembly_dir,\n",
    "                        kraken_db = k2_db)\n",
    "\n",
    "assembly_cmd"
   ]
  }
 ],
 "metadata": {
  "kernelspec": {
   "display_name": "R",
   "language": "R",
   "name": "ir"
  },
  "language_info": {
   "codemirror_mode": "r",
   "file_extension": ".r",
   "mimetype": "text/x-r-source",
   "name": "R",
   "pygments_lexer": "r",
   "version": "4.4.3"
  }
 },
 "nbformat": 4,
 "nbformat_minor": 5
}
