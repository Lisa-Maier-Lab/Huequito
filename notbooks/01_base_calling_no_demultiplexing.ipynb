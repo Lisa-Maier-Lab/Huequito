{
 "cells": [
  {
   "cell_type": "markdown",
   "id": "a895c68c",
   "metadata": {
    "vscode": {
     "languageId": "r"
    }
   },
   "source": [
    "# Nanopore base calling with Dorado\n",
    "\n",
    "Jacobo de la Cuesta-Zuluaga. June 2025.\n",
    "\n",
    "The aim of this notebook is to perform base calling from raw ONT `pod5` files."
   ]
  },
  {
   "cell_type": "markdown",
   "id": "52af2b6d",
   "metadata": {},
   "source": [
    "## Before we start"
   ]
  },
  {
   "cell_type": "markdown",
   "id": "92cb7a17",
   "metadata": {},
   "source": [
    "The execution of the notebooks of this repo requires `conda` to be installed and an environment with `nextflow` available. You can find instructions about how to install conda [here](https://conda.io/projects/conda/en/latest/user-guide/install/index.html). "
   ]
  },
  {
   "cell_type": "markdown",
   "id": "88f0c628",
   "metadata": {},
   "source": [
    "## Load libraries and set paths\n",
    "\n",
    "First, we'll set up the libraries and the work directory where we'll save our files\n"
   ]
  },
  {
   "cell_type": "code",
   "execution_count": null,
   "id": "d0d37ae2",
   "metadata": {
    "vscode": {
     "languageId": "r"
    }
   },
   "outputs": [
    {
     "name": "stderr",
     "output_type": "stream",
     "text": [
      "── \u001b[1mAttaching core tidyverse packages\u001b[22m ──────────────────────── tidyverse 2.0.0 ──\n",
      "\u001b[32m✔\u001b[39m \u001b[34mdplyr    \u001b[39m 1.1.4     \u001b[32m✔\u001b[39m \u001b[34mreadr    \u001b[39m 2.1.5\n",
      "\u001b[32m✔\u001b[39m \u001b[34mforcats  \u001b[39m 1.0.0     \u001b[32m✔\u001b[39m \u001b[34mstringr  \u001b[39m 1.5.1\n",
      "\u001b[32m✔\u001b[39m \u001b[34mggplot2  \u001b[39m 3.5.1     \u001b[32m✔\u001b[39m \u001b[34mtibble   \u001b[39m 3.2.1\n",
      "\u001b[32m✔\u001b[39m \u001b[34mlubridate\u001b[39m 1.9.3     \u001b[32m✔\u001b[39m \u001b[34mtidyr    \u001b[39m 1.3.1\n",
      "\u001b[32m✔\u001b[39m \u001b[34mpurrr    \u001b[39m 1.0.2     \n",
      "── \u001b[1mConflicts\u001b[22m ────────────────────────────────────────── tidyverse_conflicts() ──\n",
      "\u001b[31m✖\u001b[39m \u001b[34mdplyr\u001b[39m::\u001b[32mfilter()\u001b[39m masks \u001b[34mstats\u001b[39m::filter()\n",
      "\u001b[31m✖\u001b[39m \u001b[34mdplyr\u001b[39m::\u001b[32mlag()\u001b[39m    masks \u001b[34mstats\u001b[39m::lag()\n",
      "\u001b[36mℹ\u001b[39m Use the conflicted package (\u001b[3m\u001b[34m<http://conflicted.r-lib.org/>\u001b[39m\u001b[23m) to force all conflicts to become errors\n"
     ]
    }
   ],
   "source": [
    "# Libraries\n",
    "library(tidyverse)\n",
    "library(conflicted)"
   ]
  },
  {
   "cell_type": "code",
   "execution_count": null,
   "id": "43577139",
   "metadata": {
    "vscode": {
     "languageId": "r"
    }
   },
   "outputs": [
    {
     "name": "stderr",
     "output_type": "stream",
     "text": [
      "\u001b[1m\u001b[22m\u001b[90m[conflicted]\u001b[39m Will prefer \u001b[1m\u001b[34mdplyr\u001b[39m\u001b[22m::filter over any other package.\n"
     ]
    }
   ],
   "source": [
    "conflicts_prefer(dplyr::filter())"
   ]
  },
  {
   "cell_type": "markdown",
   "id": "09caa377",
   "metadata": {},
   "source": [
    "The following chunk will define the directories where the data is stored and where the output will be saved. The present example assumes everything will be contained in the same directory: `base_dir`. This might be different in your particular case, for example, if your sequences are stored on a centralized directory or you have multiple runs stored in different folders. You can change this accordingly. "
   ]
  },
  {
   "cell_type": "code",
   "execution_count": null,
   "id": "d43d50f4",
   "metadata": {
    "vscode": {
     "languageId": "r"
    }
   },
   "outputs": [
    {
     "name": "stderr",
     "output_type": "stream",
     "text": [
      "Warning message in dir.create(data_dir):\n",
      "“'/mnt/lustre/groups/maier/maide581/projects/Huequito/data' already exists”\n",
      "Warning message in dir.create(seq_dir):\n",
      "“'/mnt/lustre/groups/maier/maide581/projects/Huequito/data/pod5_files' already exists”\n",
      "Warning message in dir.create(out_dir):\n",
      "“'/mnt/lustre/groups/maier/maide581/projects/Huequito/data/fastq_files' already exists”\n",
      "Warning message in dir.create(sheets_dir):\n",
      "“'/mnt/lustre/groups/maier/maide581/projects/Huequito/data/sheets' already exists”\n"
     ]
    }
   ],
   "source": [
    "# Directories\n",
    "# Base directory\n",
    "base_dir = \"/mnt/lustre/groups/maier/maide581/projects/Huequito\"\n",
    "\n",
    "# Data\n",
    "data_dir = file.path(base_dir, \"data\")\n",
    "dir.create(data_dir)\n",
    "\n",
    "# Sequences\n",
    "seq_dir = file.path(data_dir, \"pod5_files\")\n",
    "dir.create(seq_dir)\n",
    "\n",
    "# Out\n",
    "out_dir = file.path(data_dir, \"fastq_files\")\n",
    "dir.create(out_dir)\n",
    "\n",
    "# software dir\n",
    "bin_dir = file.path(base_dir, \"bin\")\n",
    "dir.create(bin_dir)\n",
    "\n",
    "# sheets dir\n",
    "sheets_dir = file.path(data_dir, \"sheets\")\n",
    "dir.create(sheets_dir)\n",
    "\n",
    "# Software\n",
    "conda_env = \"nextflow\""
   ]
  },
  {
   "cell_type": "markdown",
   "id": "ec09e3f6",
   "metadata": {
    "vscode": {
     "languageId": "r"
    }
   },
   "source": [
    "## Download test files\n",
    "\n",
    "For the present example, we'll use publicly available sequencing data from [Hall et al., 2024](https://doi.org/10.7554/eLife.98300.3). Specifically, this corresponds to the sequencing of an isolate of _Streptococcus dysgalactiae_. We'll use this sample to illustrate how to obtain `fastq` files from the `pod5` files of a demultiplexed sample.\n",
    "\n",
    "This can take about half an hour"
   ]
  },
  {
   "cell_type": "code",
   "execution_count": null,
   "id": "5f5aa073",
   "metadata": {
    "vscode": {
     "languageId": "r"
    }
   },
   "outputs": [],
   "source": [
    "Example_pod5 = \"https://figshare.unimelb.edu.au/ndownloader/files/45334570\"\n",
    "Download_pod5_cmd = str_glue(\"wget --content-disposition --directory-prefix {seq_dir} {Example_pod5}\", \n",
    "    seq_dir = seq_dir,\n",
    "    Example_pod5 = Example_pod5)\n",
    "#system(Download_pod5_cmd)"
   ]
  },
  {
   "cell_type": "code",
   "execution_count": null,
   "id": "8e3d456b",
   "metadata": {
    "vscode": {
     "languageId": "r"
    }
   },
   "outputs": [],
   "source": [
    "# untar the file\n",
    "tar_file = seq_dir %>% \n",
    "    list.files(full.names = TRUE,pattern = \"tar\")\n",
    "untar_cmd = str_glue(\"tar -xf {tar_file} -C {seq_dir}\",\n",
    "    tar_file = tar_file,\n",
    "    seq_dir = seq_dir)\n",
    "#system(untar_cmd)"
   ]
  },
  {
   "cell_type": "code",
   "execution_count": null,
   "id": "0d5fa6de",
   "metadata": {
    "vscode": {
     "languageId": "r"
    }
   },
   "outputs": [],
   "source": [
    "# Final folder with actual pod5 files\n",
    "raw_pod5_dir = file.path(seq_dir, \"MMC234__202311\")"
   ]
  },
  {
   "cell_type": "markdown",
   "id": "d197fbf1",
   "metadata": {
    "vscode": {
     "languageId": "r"
    }
   },
   "source": [
    "## Download base calling software\n",
    "\n",
    "Next, we need to download `dorado`, which is the software we'll use to perform the base calling.\n",
    "\n",
    "Make sure you're using the latest version [here](https://github.com/nanoporetech/dorado)"
   ]
  },
  {
   "cell_type": "code",
   "execution_count": null,
   "id": "8f1a332e",
   "metadata": {
    "vscode": {
     "languageId": "r"
    }
   },
   "outputs": [
    {
     "data": {
      "text/html": [
       "'tar -zxf /mnt/lustre/groups/maier/maide581/projects/Huequito/bin/dorado-1.0.2-linux-x64.tar.gz -C /mnt/lustre/groups/maier/maide581/projects/Huequito/bin'"
      ],
      "text/latex": [
       "'tar -zxf /mnt/lustre/groups/maier/maide581/projects/Huequito/bin/dorado-1.0.2-linux-x64.tar.gz -C /mnt/lustre/groups/maier/maide581/projects/Huequito/bin'"
      ],
      "text/markdown": [
       "'tar -zxf /mnt/lustre/groups/maier/maide581/projects/Huequito/bin/dorado-1.0.2-linux-x64.tar.gz -C /mnt/lustre/groups/maier/maide581/projects/Huequito/bin'"
      ],
      "text/plain": [
       "tar -zxf /mnt/lustre/groups/maier/maide581/projects/Huequito/bin/dorado-1.0.2-linux-x64.tar.gz -C /mnt/lustre/groups/maier/maide581/projects/Huequito/bin"
      ]
     },
     "metadata": {},
     "output_type": "display_data"
    }
   ],
   "source": [
    "# Dorado file\n",
    "dorado_url = \"https://cdn.oxfordnanoportal.com/software/analysis/dorado-1.0.2-linux-x64.tar.gz\"\n",
    "dorado_destfile = file.path(bin_dir, basename(dorado_url))\n",
    "\n",
    "# Download\n",
    "download.file(url = dorado_url, destfile = dorado_destfile, method = \"wget\")"
   ]
  },
  {
   "cell_type": "code",
   "execution_count": null,
   "id": "7837bee5",
   "metadata": {
    "vscode": {
     "languageId": "r"
    }
   },
   "outputs": [],
   "source": [
    "# Uncompress file\n",
    "ungz_cmd = str_glue(\"tar -zxf {dorado_destfile} -C {bin_dir}\",\n",
    "    dorado_destfile = dorado_destfile,\n",
    "    bin_dir = bin_dir)\n",
    "#system(ungz_cmd)"
   ]
  },
  {
   "cell_type": "code",
   "execution_count": null,
   "id": "d61bf944",
   "metadata": {
    "vscode": {
     "languageId": "r"
    }
   },
   "outputs": [],
   "source": [
    "# Path to dorado executable\n",
    "dorado_exec = file.path(str_remove(dorado_destfile, \".tar.gz\"), \"bin/dorado\")"
   ]
  },
  {
   "cell_type": "markdown",
   "id": "8765e7ae",
   "metadata": {},
   "source": [
    "## Perform the base calling\n",
    "\n",
    "For instructions on how to use `dorado` [see here](https://dorado-docs.readthedocs.io).\n",
    "\n",
    "In the following chunks, we'll generate the slurm scripts necessary to execute dorado using GPUs on the M3 cluster. We'll need to complete some fields and specify certain file names or parameters."
   ]
  },
  {
   "cell_type": "code",
   "execution_count": null,
   "id": "c391db60",
   "metadata": {
    "vscode": {
     "languageId": "r"
    }
   },
   "outputs": [],
   "source": [
    "# Specify the name of the output file\n",
    "# Since this will be compressed, be sure to include the `.fastq.gz` extension\n",
    "fastq_filename = \"MMC234_202311.fastq.gz\""
   ]
  },
  {
   "cell_type": "code",
   "execution_count": null,
   "id": "6f480289",
   "metadata": {
    "vscode": {
     "languageId": "r"
    }
   },
   "outputs": [],
   "source": [
    "# Template slurm file\n",
    "# Do not modify this chunk\n",
    "dorado_slurm_raw = str_glue(.open = \"[\", .close = \"]\",\n",
    "\"#!/bin/bash\n",
    "##############################\n",
    "#       Parameters           #\n",
    "##############################\n",
    "\n",
    "# This section will tell the cluster what are the resources your job will need.\n",
    "# Change the parameters accordingly and carefully!\n",
    "\n",
    "# The success of your job depends on what you specify here.\n",
    "# If you don't allocate enough resources (e.g. memory, cpus) your job will fail.\n",
    "# If you allocate too much when not needed, your job will have a lower priority.\n",
    "\n",
    "# The parameters here are a sensible start.\n",
    "\n",
    "# Name of the job\n",
    "#SBATCH --job-name=[[job_name]]\n",
    "\n",
    "# Generate an output file and give it a name\n",
    "#SBATCH --output=%x-%j.out\n",
    "\n",
    "# Number of tasks\n",
    "#SBATCH --ntasks=1\n",
    "\n",
    "# Number of cpus that this task will need\n",
    "#SBATCH --cpus-per-task=[[cpu]]\n",
    "\n",
    "# Specify the total memory required per node\n",
    "#SBATCH --mem=[[memory]]\n",
    "\n",
    "# Specify the maximum time this job can take to run before being killed (hh:mm:ss)\n",
    "#SBATCH --time=23:59:00\n",
    "\n",
    "# Specify the partition to use\n",
    "#SBATCH --partition=gpu-a30\n",
    "\n",
    "# Type and number of gpus\n",
    "#SBATCH --gres=gpu:2           \n",
    "\n",
    "# job information\n",
    "scontrol show job ${SLURM_JOB_ID}\n",
    "pwd\n",
    "\n",
    "# per node\n",
    "# do your real computation\n",
    "source $HOME/.bashrc\n",
    "cd [[fastq_dir]]\n",
    "[[dorado_exec]] basecaller [[accuracy_mode]] [[pod5_dir]] --emit-fastq --trim [[trim_option]] --device cuda:all | gzip > [[out_fastq_gz]]\n",
    "\")"
   ]
  },
  {
   "cell_type": "code",
   "execution_count": null,
   "id": "288df10d",
   "metadata": {
    "vscode": {
     "languageId": "r"
    }
   },
   "outputs": [
    {
     "name": "stdout",
     "output_type": "stream",
     "text": [
      "#!/bin/bash\n",
      "##############################\n",
      "#       Parameters           #\n",
      "##############################\n",
      "\n",
      "# This section will tell the cluster what are the resources your job will need.\n",
      "# Change the parameters accordingly and carefully!\n",
      "\n",
      "# The success of your job depends on what you specify here.\n",
      "# If you don't allocate enough resources (e.g. memory, cpus) your job will fail.\n",
      "# If you allocate too much when not needed, your job will have a lower priority.\n",
      "\n",
      "# The parameters here are a sensible start.\n",
      "\n",
      "# Name of the job\n",
      "#SBATCH --job-name=basecall_dorado\n",
      "\n",
      "# Generate an output file and give it a name\n",
      "#SBATCH --output=%x-%j.out\n",
      "\n",
      "# Number of tasks\n",
      "#SBATCH --ntasks=1\n",
      "\n",
      "# Number of cpus that this task will need\n",
      "#SBATCH --cpus-per-task=16\n",
      "\n",
      "# Specify the total memory required per node\n",
      "#SBATCH --mem=128G\n",
      "\n",
      "# Specify the maximum time this job can take to run before being killed (hh:mm:ss)\n",
      "#SBATCH --time=23:59:00\n",
      "\n",
      "# Specify the partition to use\n",
      "#SBATCH --partition=gpu-a30\n",
      "\n",
      "# Type and number of gpus\n",
      "#SBATCH --gres=gpu:2           \n",
      "\n",
      "# job information\n",
      "scontrol show job $SLURM_JOB_ID\n",
      "pwd\n",
      "\n",
      "# per node\n",
      "# do your real computation\n",
      "source $HOME/.bashrc\n",
      "cd /mnt/lustre/groups/maier/maide581/projects/Huequito/data/fastq_files\n",
      "/mnt/lustre/groups/maier/maide581/projects/Huequito/bin/dorado-1.0.2-linux-x64/bin/dorado basecaller hac /mnt/lustre/groups/maier/maide581/projects/Huequito/data/pod5_files/MMC234__202311 --emit-fastq --trim all --device cuda:all | gzip > MMC234_202311.fastq.gz\n"
     ]
    }
   ],
   "source": [
    "dorado_slurm = str_glue(dorado_slurm_raw, \n",
    "    job_name = \"basecall_dorado\",\n",
    "    cpu = \"16\",\n",
    "    memory = \"128G\",\n",
    "    fastq_dir = out_dir,\n",
    "    dorado_exec = dorado_exec,\n",
    "    accuracy_mode = \"hac\",\n",
    "    pod5_dir = raw_pod5_dir,\n",
    "    trim_option = \"all\",\n",
    "    out_fastq_gz = fastq_filename,\n",
    "    .open = \"[\", .close = \"]\")\n",
    "\n",
    "dorado_slurm %>%\n",
    "    print()"
   ]
  },
  {
   "cell_type": "code",
   "execution_count": null,
   "id": "ac71ea4e",
   "metadata": {
    "vscode": {
     "languageId": "r"
    }
   },
   "outputs": [],
   "source": [
    "# Write slurm file\n",
    "dorado_slurmfile = file.path(sheets_dir, \"dorado_slurm.sh\")\n",
    "write_lines(dorado_slurm, dorado_slurmfile)"
   ]
  },
  {
   "cell_type": "code",
   "execution_count": null,
   "id": "ad6e0f73",
   "metadata": {
    "vscode": {
     "languageId": "r"
    }
   },
   "outputs": [
    {
     "data": {
      "text/html": [
       "'sbatch /mnt/lustre/groups/maier/maide581/projects/Huequito/data/sheets/dorado_slurm.sh'"
      ],
      "text/latex": [
       "'sbatch /mnt/lustre/groups/maier/maide581/projects/Huequito/data/sheets/dorado\\_slurm.sh'"
      ],
      "text/markdown": [
       "'sbatch /mnt/lustre/groups/maier/maide581/projects/Huequito/data/sheets/dorado_slurm.sh'"
      ],
      "text/plain": [
       "sbatch /mnt/lustre/groups/maier/maide581/projects/Huequito/data/sheets/dorado_slurm.sh"
      ]
     },
     "metadata": {},
     "output_type": "display_data"
    }
   ],
   "source": [
    "# Execution command\n",
    "str_glue(\"sbatch {dorado_slurmfile}\")"
   ]
  }
 ],
 "metadata": {
  "kernelspec": {
   "display_name": "R",
   "language": "R",
   "name": "ir"
  },
  "language_info": {
   "codemirror_mode": "r",
   "file_extension": ".r",
   "mimetype": "text/x-r-source",
   "name": "R",
   "pygments_lexer": "r",
   "version": "3.13.5"
  }
 },
 "nbformat": 4,
 "nbformat_minor": 5
}
